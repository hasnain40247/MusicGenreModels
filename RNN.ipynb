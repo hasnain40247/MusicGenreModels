{
 "cells": [
  {
   "cell_type": "code",
   "execution_count": 1,
   "id": "6663aca8",
   "metadata": {},
   "outputs": [],
   "source": [
    "import numpy as np\n",
    "import matplotlib.pyplot as plt\n",
    "import os\n",
    "import json\n",
    "from sklearn.model_selection import train_test_split\n",
    "from tensorflow.keras import models,layers"
   ]
  },
  {
   "cell_type": "markdown",
   "id": "89c71d21",
   "metadata": {},
   "source": [
    "Preparing Dataset for Testing and Training."
   ]
  },
  {
   "cell_type": "code",
   "execution_count": 2,
   "id": "3e4d5418",
   "metadata": {},
   "outputs": [],
   "source": [
    "with open(\"data.json\",\"r\") as fp:\n",
    "    data=json.load(fp)\n",
    "inputs=np.array(data[\"mfcc\"])\n",
    "targets=np.array(data[\"labels\"])\n",
    "genres=np.array(data[\"mapping\"])"
   ]
  },
  {
   "cell_type": "code",
   "execution_count": 3,
   "id": "d6b0148f",
   "metadata": {},
   "outputs": [],
   "source": [
    "X_train,X_test,y_train,y_test=train_test_split(inputs,targets,test_size=0.3)"
   ]
  },
  {
   "cell_type": "markdown",
   "id": "678048e1",
   "metadata": {},
   "source": [
    "Creation of RNN Model by adding LSTM (Long Short-Term Memory) layer as input of existing CNN Model."
   ]
  },
  {
   "cell_type": "code",
   "execution_count": 4,
   "id": "7605a390",
   "metadata": {},
   "outputs": [],
   "source": [
    "model=models.Sequential()\n",
    "model.add(layers.LSTM(259,input_shape=(259,13)))\n",
    "model.add(layers.Dropout(0.3))\n",
    "model.add(layers.Dense(512,activation='relu'))\n",
    "model.add(layers.Dropout(0.3))\n",
    "model.add(layers.Dense(256,activation='relu'))\n",
    "model.add(layers.Dropout(0.3))\n",
    "model.add(layers.Dense(64,activation='relu'))\n",
    "model.add(layers.Dropout(0.3))\n",
    "model.add(layers.Dense(10,activation='softmax'))"
   ]
  },
  {
   "cell_type": "code",
   "execution_count": 5,
   "id": "b6db9209",
   "metadata": {},
   "outputs": [
    {
     "name": "stdout",
     "output_type": "stream",
     "text": [
      "Model: \"sequential\"\n",
      "_________________________________________________________________\n",
      "Layer (type)                 Output Shape              Param #   \n",
      "=================================================================\n",
      "lstm (LSTM)                  (None, 259)               282828    \n",
      "_________________________________________________________________\n",
      "dropout (Dropout)            (None, 259)               0         \n",
      "_________________________________________________________________\n",
      "dense (Dense)                (None, 512)               133120    \n",
      "_________________________________________________________________\n",
      "dropout_1 (Dropout)          (None, 512)               0         \n",
      "_________________________________________________________________\n",
      "dense_1 (Dense)              (None, 256)               131328    \n",
      "_________________________________________________________________\n",
      "dropout_2 (Dropout)          (None, 256)               0         \n",
      "_________________________________________________________________\n",
      "dense_2 (Dense)              (None, 64)                16448     \n",
      "_________________________________________________________________\n",
      "dropout_3 (Dropout)          (None, 64)                0         \n",
      "_________________________________________________________________\n",
      "dense_3 (Dense)              (None, 10)                650       \n",
      "=================================================================\n",
      "Total params: 564,374\n",
      "Trainable params: 564,374\n",
      "Non-trainable params: 0\n",
      "_________________________________________________________________\n"
     ]
    }
   ],
   "source": [
    "model.summary()"
   ]
  },
  {
   "cell_type": "code",
   "execution_count": 6,
   "id": "30ce5eb8",
   "metadata": {},
   "outputs": [],
   "source": [
    "model.compile(optimizer='adam',loss='sparse_categorical_crossentropy',metrics=['accuracy'])"
   ]
  },
  {
   "cell_type": "markdown",
   "id": "f038d3a3",
   "metadata": {},
   "source": [
    "Training of Model."
   ]
  },
  {
   "cell_type": "code",
   "execution_count": 7,
   "id": "49f4acd6",
   "metadata": {},
   "outputs": [
    {
     "name": "stdout",
     "output_type": "stream",
     "text": [
      "Epoch 1/100\n",
      "110/110 [==============================] - 6s 35ms/step - loss: 2.1378 - accuracy: 0.2389 - val_loss: 1.6209 - val_accuracy: 0.4179\n",
      "Epoch 2/100\n",
      "110/110 [==============================] - 3s 25ms/step - loss: 1.7215 - accuracy: 0.3796 - val_loss: 1.4661 - val_accuracy: 0.4539\n",
      "Epoch 3/100\n",
      "110/110 [==============================] - 3s 25ms/step - loss: 1.6127 - accuracy: 0.4060 - val_loss: 1.4057 - val_accuracy: 0.4846\n",
      "Epoch 4/100\n",
      "110/110 [==============================] - 3s 25ms/step - loss: 1.4994 - accuracy: 0.4609 - val_loss: 1.2876 - val_accuracy: 0.5581\n",
      "Epoch 5/100\n",
      "110/110 [==============================] - 3s 25ms/step - loss: 1.3910 - accuracy: 0.4868 - val_loss: 1.2792 - val_accuracy: 0.5234\n",
      "Epoch 6/100\n",
      "110/110 [==============================] - 3s 25ms/step - loss: 1.3346 - accuracy: 0.5158 - val_loss: 1.2589 - val_accuracy: 0.5334\n",
      "Epoch 7/100\n",
      "110/110 [==============================] - 3s 25ms/step - loss: 1.3288 - accuracy: 0.5119 - val_loss: 1.1670 - val_accuracy: 0.5854\n",
      "Epoch 8/100\n",
      "110/110 [==============================] - 3s 25ms/step - loss: 1.2605 - accuracy: 0.5487 - val_loss: 1.1297 - val_accuracy: 0.5781\n",
      "Epoch 9/100\n",
      "110/110 [==============================] - 3s 25ms/step - loss: 1.2459 - accuracy: 0.5469 - val_loss: 1.1600 - val_accuracy: 0.5841\n",
      "Epoch 10/100\n",
      "110/110 [==============================] - 3s 25ms/step - loss: 1.1946 - accuracy: 0.5651 - val_loss: 1.0498 - val_accuracy: 0.6222\n",
      "Epoch 11/100\n",
      "110/110 [==============================] - 3s 25ms/step - loss: 1.1626 - accuracy: 0.5943 - val_loss: 1.0540 - val_accuracy: 0.6101\n",
      "Epoch 12/100\n",
      "110/110 [==============================] - 3s 25ms/step - loss: 1.0979 - accuracy: 0.6114 - val_loss: 1.0279 - val_accuracy: 0.6295\n",
      "Epoch 13/100\n",
      "110/110 [==============================] - 3s 25ms/step - loss: 1.0240 - accuracy: 0.6259 - val_loss: 1.0064 - val_accuracy: 0.6455\n",
      "Epoch 14/100\n",
      "110/110 [==============================] - 3s 25ms/step - loss: 1.0209 - accuracy: 0.6343 - val_loss: 0.9836 - val_accuracy: 0.6422\n",
      "Epoch 15/100\n",
      "110/110 [==============================] - 3s 25ms/step - loss: 0.9490 - accuracy: 0.6665 - val_loss: 0.9468 - val_accuracy: 0.6669\n",
      "Epoch 16/100\n",
      "110/110 [==============================] - 3s 25ms/step - loss: 0.9321 - accuracy: 0.6744 - val_loss: 0.9255 - val_accuracy: 0.6722\n",
      "Epoch 17/100\n",
      "110/110 [==============================] - 3s 25ms/step - loss: 0.9100 - accuracy: 0.6770 - val_loss: 0.9162 - val_accuracy: 0.6749\n",
      "Epoch 18/100\n",
      "110/110 [==============================] - 3s 25ms/step - loss: 0.8416 - accuracy: 0.6975 - val_loss: 0.9080 - val_accuracy: 0.6909\n",
      "Epoch 19/100\n",
      "110/110 [==============================] - 3s 25ms/step - loss: 0.8937 - accuracy: 0.6834 - val_loss: 0.8981 - val_accuracy: 0.6896\n",
      "Epoch 20/100\n",
      "110/110 [==============================] - 3s 25ms/step - loss: 0.8543 - accuracy: 0.7123 - val_loss: 0.8589 - val_accuracy: 0.7049\n",
      "Epoch 21/100\n",
      "110/110 [==============================] - 3s 25ms/step - loss: 0.8454 - accuracy: 0.6936 - val_loss: 0.8559 - val_accuracy: 0.6956\n",
      "Epoch 22/100\n",
      "110/110 [==============================] - 3s 25ms/step - loss: 0.7956 - accuracy: 0.7199 - val_loss: 0.8481 - val_accuracy: 0.7210\n",
      "Epoch 23/100\n",
      "110/110 [==============================] - 3s 26ms/step - loss: 0.7648 - accuracy: 0.7247 - val_loss: 0.8241 - val_accuracy: 0.7236\n",
      "Epoch 24/100\n",
      "110/110 [==============================] - 3s 25ms/step - loss: 0.7549 - accuracy: 0.7401 - val_loss: 0.8448 - val_accuracy: 0.7170\n",
      "Epoch 25/100\n",
      "110/110 [==============================] - 3s 26ms/step - loss: 0.7481 - accuracy: 0.7508 - val_loss: 0.8605 - val_accuracy: 0.7089\n",
      "Epoch 26/100\n",
      "110/110 [==============================] - 3s 25ms/step - loss: 0.7295 - accuracy: 0.7528 - val_loss: 0.8211 - val_accuracy: 0.7123\n",
      "Epoch 27/100\n",
      "110/110 [==============================] - 3s 25ms/step - loss: 0.7167 - accuracy: 0.7462 - val_loss: 0.8495 - val_accuracy: 0.7283\n",
      "Epoch 28/100\n",
      "110/110 [==============================] - 3s 26ms/step - loss: 0.7484 - accuracy: 0.7378 - val_loss: 0.8211 - val_accuracy: 0.7296\n",
      "Epoch 29/100\n",
      "110/110 [==============================] - 3s 25ms/step - loss: 0.6620 - accuracy: 0.7761 - val_loss: 0.8395 - val_accuracy: 0.7377\n",
      "Epoch 30/100\n",
      "110/110 [==============================] - 3s 25ms/step - loss: 0.6202 - accuracy: 0.7797 - val_loss: 0.8484 - val_accuracy: 0.7370\n",
      "Epoch 31/100\n",
      "110/110 [==============================] - 3s 25ms/step - loss: 0.6606 - accuracy: 0.7789 - val_loss: 0.8194 - val_accuracy: 0.7356\n",
      "Epoch 32/100\n",
      "110/110 [==============================] - 3s 25ms/step - loss: 0.6154 - accuracy: 0.7839 - val_loss: 0.8253 - val_accuracy: 0.7336\n",
      "Epoch 33/100\n",
      "110/110 [==============================] - 3s 25ms/step - loss: 0.5920 - accuracy: 0.7942 - val_loss: 0.8114 - val_accuracy: 0.7390\n",
      "Epoch 34/100\n",
      "110/110 [==============================] - 3s 26ms/step - loss: 0.6026 - accuracy: 0.7976 - val_loss: 0.8004 - val_accuracy: 0.7577\n",
      "Epoch 35/100\n",
      "110/110 [==============================] - 3s 26ms/step - loss: 0.5221 - accuracy: 0.8235 - val_loss: 0.9279 - val_accuracy: 0.7370\n",
      "Epoch 36/100\n",
      "110/110 [==============================] - 3s 25ms/step - loss: 0.6015 - accuracy: 0.7944 - val_loss: 0.7832 - val_accuracy: 0.7477\n",
      "Epoch 37/100\n",
      "110/110 [==============================] - 3s 25ms/step - loss: 0.5607 - accuracy: 0.8125 - val_loss: 0.8110 - val_accuracy: 0.7503\n",
      "Epoch 38/100\n",
      "110/110 [==============================] - 3s 25ms/step - loss: 0.5383 - accuracy: 0.8153 - val_loss: 0.8366 - val_accuracy: 0.7457\n",
      "Epoch 39/100\n",
      "110/110 [==============================] - 3s 26ms/step - loss: 0.5086 - accuracy: 0.8343 - val_loss: 0.8731 - val_accuracy: 0.7483\n",
      "Epoch 40/100\n",
      "110/110 [==============================] - 3s 26ms/step - loss: 0.5326 - accuracy: 0.8174 - val_loss: 0.8528 - val_accuracy: 0.7410\n",
      "Epoch 41/100\n",
      "110/110 [==============================] - 3s 26ms/step - loss: 0.5013 - accuracy: 0.8290 - val_loss: 0.8308 - val_accuracy: 0.7483\n",
      "Epoch 42/100\n",
      "110/110 [==============================] - 3s 26ms/step - loss: 0.4849 - accuracy: 0.8345 - val_loss: 0.7849 - val_accuracy: 0.7684\n",
      "Epoch 43/100\n",
      "110/110 [==============================] - 3s 26ms/step - loss: 0.4950 - accuracy: 0.8292 - val_loss: 0.8296 - val_accuracy: 0.7550\n",
      "Epoch 44/100\n",
      "110/110 [==============================] - 3s 26ms/step - loss: 0.5142 - accuracy: 0.8344 - val_loss: 0.8234 - val_accuracy: 0.7597\n",
      "Epoch 45/100\n",
      "110/110 [==============================] - 3s 26ms/step - loss: 0.4751 - accuracy: 0.8427 - val_loss: 0.8182 - val_accuracy: 0.7530\n",
      "Epoch 46/100\n",
      "110/110 [==============================] - 3s 26ms/step - loss: 0.4710 - accuracy: 0.8410 - val_loss: 0.8318 - val_accuracy: 0.7577\n",
      "Epoch 47/100\n",
      "110/110 [==============================] - 3s 26ms/step - loss: 0.4669 - accuracy: 0.8419 - val_loss: 0.8609 - val_accuracy: 0.7510\n",
      "Epoch 48/100\n",
      "110/110 [==============================] - 3s 26ms/step - loss: 0.4320 - accuracy: 0.8476 - val_loss: 0.8469 - val_accuracy: 0.7644\n",
      "Epoch 49/100\n",
      "110/110 [==============================] - 3s 26ms/step - loss: 0.4504 - accuracy: 0.8488 - val_loss: 0.8223 - val_accuracy: 0.7690\n",
      "Epoch 50/100\n",
      "110/110 [==============================] - 3s 26ms/step - loss: 0.4148 - accuracy: 0.8632 - val_loss: 0.9026 - val_accuracy: 0.7583\n",
      "Epoch 51/100\n",
      "110/110 [==============================] - 3s 26ms/step - loss: 0.3881 - accuracy: 0.8581 - val_loss: 0.8204 - val_accuracy: 0.7670\n",
      "Epoch 52/100\n",
      "110/110 [==============================] - 3s 26ms/step - loss: 0.3977 - accuracy: 0.8687 - val_loss: 0.8203 - val_accuracy: 0.7644\n",
      "Epoch 53/100\n",
      "110/110 [==============================] - 3s 26ms/step - loss: 0.4019 - accuracy: 0.8610 - val_loss: 0.8362 - val_accuracy: 0.7577\n",
      "Epoch 54/100\n",
      "110/110 [==============================] - 3s 26ms/step - loss: 0.3619 - accuracy: 0.8724 - val_loss: 0.9806 - val_accuracy: 0.7617\n",
      "Epoch 55/100\n",
      "110/110 [==============================] - 3s 26ms/step - loss: 0.4334 - accuracy: 0.8528 - val_loss: 0.9096 - val_accuracy: 0.7603\n",
      "Epoch 56/100\n",
      "110/110 [==============================] - 3s 26ms/step - loss: 0.3772 - accuracy: 0.8782 - val_loss: 0.8280 - val_accuracy: 0.7697\n",
      "Epoch 57/100\n",
      "110/110 [==============================] - 3s 26ms/step - loss: 0.3712 - accuracy: 0.8741 - val_loss: 0.9058 - val_accuracy: 0.7477\n",
      "Epoch 58/100\n",
      "110/110 [==============================] - 3s 26ms/step - loss: 0.4122 - accuracy: 0.8629 - val_loss: 0.8799 - val_accuracy: 0.7637\n",
      "Epoch 59/100\n",
      "110/110 [==============================] - 3s 26ms/step - loss: 0.3800 - accuracy: 0.8693 - val_loss: 0.8560 - val_accuracy: 0.7630\n",
      "Epoch 60/100\n",
      "110/110 [==============================] - 3s 26ms/step - loss: 0.3794 - accuracy: 0.8833 - val_loss: 0.9393 - val_accuracy: 0.7383\n",
      "Epoch 61/100\n",
      "110/110 [==============================] - 3s 26ms/step - loss: 0.4028 - accuracy: 0.8612 - val_loss: 0.8599 - val_accuracy: 0.7523\n",
      "Epoch 62/100\n",
      "110/110 [==============================] - 3s 26ms/step - loss: 0.3599 - accuracy: 0.8754 - val_loss: 0.9186 - val_accuracy: 0.7537\n",
      "Epoch 63/100\n",
      "110/110 [==============================] - 3s 26ms/step - loss: 0.3029 - accuracy: 0.8947 - val_loss: 0.8832 - val_accuracy: 0.7610\n",
      "Epoch 64/100\n",
      "110/110 [==============================] - 3s 26ms/step - loss: 0.3538 - accuracy: 0.8808 - val_loss: 0.9588 - val_accuracy: 0.7557\n",
      "Epoch 65/100\n",
      "110/110 [==============================] - 3s 26ms/step - loss: 0.3588 - accuracy: 0.8801 - val_loss: 0.8877 - val_accuracy: 0.7537\n",
      "Epoch 66/100\n",
      "110/110 [==============================] - 3s 26ms/step - loss: 0.3556 - accuracy: 0.8824 - val_loss: 0.8699 - val_accuracy: 0.7577\n",
      "Epoch 67/100\n",
      "110/110 [==============================] - 3s 26ms/step - loss: 0.3675 - accuracy: 0.8800 - val_loss: 0.8769 - val_accuracy: 0.7817\n",
      "Epoch 68/100\n",
      "110/110 [==============================] - 3s 26ms/step - loss: 0.3021 - accuracy: 0.9004 - val_loss: 0.9672 - val_accuracy: 0.7563\n",
      "Epoch 69/100\n",
      "110/110 [==============================] - 3s 26ms/step - loss: 0.3070 - accuracy: 0.8963 - val_loss: 0.8904 - val_accuracy: 0.7690\n",
      "Epoch 70/100\n",
      "110/110 [==============================] - 3s 26ms/step - loss: 0.3475 - accuracy: 0.8852 - val_loss: 0.9466 - val_accuracy: 0.7677\n",
      "Epoch 71/100\n",
      "110/110 [==============================] - 3s 26ms/step - loss: 0.3252 - accuracy: 0.8919 - val_loss: 0.9728 - val_accuracy: 0.7557\n",
      "Epoch 72/100\n",
      "110/110 [==============================] - 3s 26ms/step - loss: 0.2755 - accuracy: 0.9090 - val_loss: 1.0096 - val_accuracy: 0.7623\n",
      "Epoch 73/100\n",
      "110/110 [==============================] - 3s 26ms/step - loss: 0.3423 - accuracy: 0.8894 - val_loss: 0.9494 - val_accuracy: 0.7543\n",
      "Epoch 74/100\n",
      "110/110 [==============================] - 3s 26ms/step - loss: 0.3264 - accuracy: 0.8927 - val_loss: 0.9844 - val_accuracy: 0.7650\n",
      "Epoch 75/100\n",
      "110/110 [==============================] - 3s 26ms/step - loss: 0.3130 - accuracy: 0.8980 - val_loss: 0.9126 - val_accuracy: 0.7724\n",
      "Epoch 76/100\n",
      "110/110 [==============================] - 3s 26ms/step - loss: 0.2920 - accuracy: 0.8967 - val_loss: 0.8914 - val_accuracy: 0.7844\n",
      "Epoch 77/100\n",
      "110/110 [==============================] - 3s 26ms/step - loss: 0.2804 - accuracy: 0.9103 - val_loss: 0.9317 - val_accuracy: 0.7730\n",
      "Epoch 78/100\n",
      "110/110 [==============================] - 3s 26ms/step - loss: 0.3349 - accuracy: 0.8946 - val_loss: 0.8736 - val_accuracy: 0.7784\n",
      "Epoch 79/100\n",
      "110/110 [==============================] - 3s 26ms/step - loss: 0.2775 - accuracy: 0.9069 - val_loss: 0.8915 - val_accuracy: 0.7837\n",
      "Epoch 80/100\n",
      "110/110 [==============================] - 3s 26ms/step - loss: 0.2653 - accuracy: 0.9148 - val_loss: 0.8603 - val_accuracy: 0.7724\n",
      "Epoch 81/100\n",
      "110/110 [==============================] - 3s 26ms/step - loss: 0.2883 - accuracy: 0.9018 - val_loss: 0.9418 - val_accuracy: 0.7737\n",
      "Epoch 82/100\n",
      "110/110 [==============================] - 3s 26ms/step - loss: 0.2444 - accuracy: 0.9164 - val_loss: 0.8871 - val_accuracy: 0.7750\n",
      "Epoch 83/100\n",
      "110/110 [==============================] - 3s 26ms/step - loss: 0.2494 - accuracy: 0.9153 - val_loss: 0.9014 - val_accuracy: 0.7717\n",
      "Epoch 84/100\n",
      "110/110 [==============================] - 3s 26ms/step - loss: 0.2669 - accuracy: 0.9158 - val_loss: 0.9221 - val_accuracy: 0.7750\n",
      "Epoch 85/100\n",
      "110/110 [==============================] - 3s 26ms/step - loss: 0.2829 - accuracy: 0.9026 - val_loss: 0.9068 - val_accuracy: 0.7750\n",
      "Epoch 86/100\n",
      "110/110 [==============================] - 3s 26ms/step - loss: 0.2990 - accuracy: 0.9137 - val_loss: 0.8370 - val_accuracy: 0.7944\n",
      "Epoch 87/100\n",
      "110/110 [==============================] - 3s 26ms/step - loss: 0.2808 - accuracy: 0.9177 - val_loss: 0.9159 - val_accuracy: 0.7784\n",
      "Epoch 88/100\n",
      "110/110 [==============================] - 3s 26ms/step - loss: 0.2610 - accuracy: 0.9192 - val_loss: 0.9831 - val_accuracy: 0.7717\n",
      "Epoch 89/100\n",
      "110/110 [==============================] - 3s 26ms/step - loss: 0.3043 - accuracy: 0.9043 - val_loss: 0.8491 - val_accuracy: 0.7797\n",
      "Epoch 90/100\n",
      "110/110 [==============================] - 3s 26ms/step - loss: 0.2561 - accuracy: 0.9138 - val_loss: 0.8670 - val_accuracy: 0.7737\n",
      "Epoch 91/100\n",
      "110/110 [==============================] - 3s 26ms/step - loss: 0.2461 - accuracy: 0.9196 - val_loss: 0.9205 - val_accuracy: 0.7824\n",
      "Epoch 92/100\n",
      "110/110 [==============================] - 3s 26ms/step - loss: 0.2146 - accuracy: 0.9251 - val_loss: 0.9666 - val_accuracy: 0.7777\n",
      "Epoch 93/100\n",
      "110/110 [==============================] - 3s 26ms/step - loss: 0.2633 - accuracy: 0.9238 - val_loss: 0.9519 - val_accuracy: 0.7810\n",
      "Epoch 94/100\n",
      "110/110 [==============================] - 3s 26ms/step - loss: 0.2397 - accuracy: 0.9204 - val_loss: 0.9842 - val_accuracy: 0.7864\n",
      "Epoch 95/100\n",
      "110/110 [==============================] - 3s 26ms/step - loss: 0.2176 - accuracy: 0.9265 - val_loss: 1.0375 - val_accuracy: 0.7824\n",
      "Epoch 96/100\n",
      "110/110 [==============================] - 3s 26ms/step - loss: 0.2363 - accuracy: 0.9241 - val_loss: 1.0023 - val_accuracy: 0.7830\n",
      "Epoch 97/100\n",
      "110/110 [==============================] - 3s 26ms/step - loss: 0.1962 - accuracy: 0.9347 - val_loss: 1.0118 - val_accuracy: 0.7770\n",
      "Epoch 98/100\n",
      "110/110 [==============================] - 3s 26ms/step - loss: 0.2625 - accuracy: 0.9223 - val_loss: 0.8982 - val_accuracy: 0.7897\n",
      "Epoch 99/100\n",
      "110/110 [==============================] - 3s 26ms/step - loss: 0.2561 - accuracy: 0.9160 - val_loss: 0.9381 - val_accuracy: 0.7917\n",
      "Epoch 100/100\n",
      "110/110 [==============================] - 3s 26ms/step - loss: 0.2789 - accuracy: 0.9125 - val_loss: 0.9412 - val_accuracy: 0.7844\n"
     ]
    },
    {
     "data": {
      "text/plain": [
       "<tensorflow.python.keras.callbacks.History at 0x1f67b6c4040>"
      ]
     },
     "execution_count": 7,
     "metadata": {},
     "output_type": "execute_result"
    }
   ],
   "source": [
    "model.fit(X_train,y_train,validation_data=(X_test,y_test),epochs=100,batch_size=32)"
   ]
  },
  {
   "cell_type": "markdown",
   "id": "be968250",
   "metadata": {},
   "source": [
    "Plotting values of Accuracy and Error during both Training and Testing phases."
   ]
  },
  {
   "cell_type": "code",
   "execution_count": 8,
   "id": "a69e3291",
   "metadata": {},
   "outputs": [
    {
     "data": {
      "image/png": "[encoded data removed]",
      "text/plain": [
       "<Figure size 432x288 with 1 Axes>"
      ]
     },
     "metadata": {
      "needs_background": "light"
     },
     "output_type": "display_data"
    },
    {
     "data": {
      "image/png": "[encoded data removed]",
      "text/plain": [
       "<Figure size 432x288 with 1 Axes>"
      ]
     },
     "metadata": {
      "needs_background": "light"
     },
     "output_type": "display_data"
    }
   ],
   "source": [
    "plt.plot(model.history.history['accuracy'],label='Training Accuracy')\n",
    "plt.plot(model.history.history['val_accuracy'],label='Testing Accuracy')\n",
    "plt.title('Accuracy')\n",
    "plt.ylabel('Accuracy')\n",
    "plt.xlabel('Epoch')\n",
    "plt.legend(loc='lower right')\n",
    "plt.show()\n",
    "\n",
    "plt.plot(model.history.history['loss'],label='Training Loss')\n",
    "plt.plot(model.history.history['val_loss'],label='Testing Loss')\n",
    "plt.title('Loss')\n",
    "plt.ylabel('Error')\n",
    "plt.xlabel('Epoch')\n",
    "plt.legend(loc='lower right')\n",
    "plt.show()"
   ]
  },
  {
   "cell_type": "markdown",
   "id": "5f65edbf",
   "metadata": {},
   "source": [
    "Calculating Testing Accuracy and Loss."
   ]
  },
  {
   "cell_type": "code",
   "execution_count": 9,
   "id": "a618e3a7",
   "metadata": {},
   "outputs": [
    {
     "name": "stdout",
     "output_type": "stream",
     "text": [
      "Accuracy is 0.7843791842460632\n",
      "Error is 0.9411900043487549\n"
     ]
    }
   ],
   "source": [
    "test_error,test_accuracy=model.evaluate(X_test,y_test,verbose=0)\n",
    "print(\"Accuracy is {}\".format(test_accuracy))\n",
    "print(\"Error is {}\".format(test_error))"
   ]
  },
  {
   "cell_type": "markdown",
   "id": "dab84cb0",
   "metadata": {},
   "source": [
    "Prediction using Model."
   ]
  },
  {
   "cell_type": "code",
   "execution_count": 10,
   "id": "ea74ca96",
   "metadata": {},
   "outputs": [],
   "source": [
    "def predict(model,X,y):\n",
    "    X=X[np.newaxis,...]\n",
    "    prediction=model.predict(X)\n",
    "    predicted_index=np.argmax(prediction,axis=1)\n",
    "    print(\"Expected index: {}, Outcome Index: {}\".format(y,predicted_index))\n",
    "    print(\"Expected genre: {}, Outcome genre: {}\".format(genres[y],genres[predicted_index]))"
   ]
  },
  {
   "cell_type": "code",
   "execution_count": 11,
   "id": "5b3a16a6",
   "metadata": {},
   "outputs": [],
   "source": [
    "X=X_test[100]\n",
    "y=y_test[100]"
   ]
  },
  {
   "cell_type": "code",
   "execution_count": 12,
   "id": "25b9069a",
   "metadata": {},
   "outputs": [
    {
     "name": "stdout",
     "output_type": "stream",
     "text": [
      "Expected index: 6, Outcome Index: [6]\n",
      "Expected genre: metal, Outcome genre: ['metal']\n"
     ]
    }
   ],
   "source": [
    "predict(model,X,y)"
   ]
  },
  {
   "cell_type": "markdown",
   "id": "63efd152",
   "metadata": {},
   "source": [
    "Saving Model for future use."
   ]
  },
  {
   "cell_type": "code",
   "execution_count": 13,
   "id": "a35e0612",
   "metadata": {},
   "outputs": [],
   "source": [
    "model_json = model.to_json()\n",
    "with open(\"RNN_model.json\", \"w\") as json_file:\n",
    "    json_file.write(model_json)\n",
    "model.save_weights(\"RNN_model.h5\")"
   ]
  }
 ],
 "metadata": {
  "kernelspec": {
   "display_name": "Python 3",
   "language": "python",
   "name": "python3"
  },
  "language_info": {
   "codemirror_mode": {
    "name": "ipython",
    "version": 3
   },
   "file_extension": ".py",
   "mimetype": "text/x-python",
   "name": "python",
   "nbconvert_exporter": "python",
   "pygments_lexer": "ipython3",
   "version": "3.8.8"
  }
 },
 "nbformat": 4,
 "nbformat_minor": 5
}
