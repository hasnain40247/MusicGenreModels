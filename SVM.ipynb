{
 "cells": [
  {
   "cell_type": "code",
   "execution_count": 2,
   "id": "27aec012",
   "metadata": {},
   "outputs": [],
   "source": [
    "import json\n",
    "import numpy as np\n",
    "import matplotlib.pyplot as plt"
   ]
  },
  {
   "cell_type": "markdown",
   "id": "7d814d77",
   "metadata": {},
   "source": [
    "Preparation of Training and Testing Dataset."
   ]
  },
  {
   "cell_type": "code",
   "execution_count": 3,
   "id": "df07f094",
   "metadata": {},
   "outputs": [],
   "source": [
    "with open(\"data.json\",\"r\") as fp:\n",
    "    data=json.load(fp)\n",
    "inputs=np.array(data[\"mfcc\"])\n",
    "targets=np.array(data[\"labels\"])\n",
    "genres=np.array(data[\"mapping\"])"
   ]
  },
  {
   "cell_type": "code",
   "execution_count": 4,
   "id": "1df52e77",
   "metadata": {},
   "outputs": [],
   "source": [
    "inputs=inputs.reshape((4993,259*13))"
   ]
  },
  {
   "cell_type": "code",
   "execution_count": 5,
   "id": "bbaa68b2",
   "metadata": {},
   "outputs": [],
   "source": [
    "from sklearn.model_selection import train_test_split"
   ]
  },
  {
   "cell_type": "code",
   "execution_count": 6,
   "id": "7fe73251",
   "metadata": {},
   "outputs": [],
   "source": [
    "inputs_train, inputs_test, targets_train, targets_test=train_test_split(inputs,targets,test_size=0.3)"
   ]
  },
  {
   "cell_type": "code",
   "execution_count": 6,
   "id": "58f8d2a0",
   "metadata": {},
   "outputs": [],
   "source": [
    "from sklearn.svm import SVC"
   ]
  },
  {
   "cell_type": "markdown",
   "id": "2ec3dcbb",
   "metadata": {},
   "source": [
    "SVM using Radial Basis Function kernel."
   ]
  },
  {
   "cell_type": "code",
   "execution_count": 7,
   "id": "af8891b8",
   "metadata": {},
   "outputs": [],
   "source": [
    "clf=SVC(kernel='rbf',probability=True)"
   ]
  },
  {
   "cell_type": "code",
   "execution_count": 8,
   "id": "3d0626b3",
   "metadata": {},
   "outputs": [
    {
     "data": {
      "text/plain": [
       "SVC(probability=True)"
      ]
     },
     "execution_count": 8,
     "metadata": {},
     "output_type": "execute_result"
    }
   ],
   "source": [
    "clf.fit(inputs_train,targets_train)"
   ]
  },
  {
   "cell_type": "code",
   "execution_count": 9,
   "id": "3f2fa8de",
   "metadata": {},
   "outputs": [
    {
     "data": {
      "text/plain": [
       "0.5393858477970628"
      ]
     },
     "execution_count": 9,
     "metadata": {},
     "output_type": "execute_result"
    }
   ],
   "source": [
    "clf.score(inputs_test,targets_test)"
   ]
  },
  {
   "cell_type": "code",
   "execution_count": 10,
   "id": "667899b3",
   "metadata": {},
   "outputs": [
    {
     "data": {
      "text/plain": [
       "0.5965665236051502"
      ]
     },
     "execution_count": 10,
     "metadata": {},
     "output_type": "execute_result"
    }
   ],
   "source": [
    "clf.score(inputs_train,targets_train)"
   ]
  },
  {
   "cell_type": "markdown",
   "id": "14ba3546",
   "metadata": {},
   "source": [
    "SVM using Linear kernel."
   ]
  },
  {
   "cell_type": "code",
   "execution_count": 11,
   "id": "f37c6bbb",
   "metadata": {},
   "outputs": [],
   "source": [
    "clf1=SVC(kernel='linear',probability=True)"
   ]
  },
  {
   "cell_type": "code",
   "execution_count": 12,
   "id": "8d44a3fc",
   "metadata": {},
   "outputs": [
    {
     "data": {
      "text/plain": [
       "SVC(kernel='linear', probability=True)"
      ]
     },
     "execution_count": 12,
     "metadata": {},
     "output_type": "execute_result"
    }
   ],
   "source": [
    "clf1.fit(inputs_train,targets_train)"
   ]
  },
  {
   "cell_type": "code",
   "execution_count": 13,
   "id": "4d3a15d8",
   "metadata": {},
   "outputs": [
    {
     "data": {
      "text/plain": [
       "0.48397863818424564"
      ]
     },
     "execution_count": 13,
     "metadata": {},
     "output_type": "execute_result"
    }
   ],
   "source": [
    "clf1.score(inputs_test,targets_test)"
   ]
  },
  {
   "cell_type": "code",
   "execution_count": 14,
   "id": "d2c2f16a",
   "metadata": {},
   "outputs": [
    {
     "data": {
      "text/plain": [
       "0.9991416309012876"
      ]
     },
     "execution_count": 14,
     "metadata": {},
     "output_type": "execute_result"
    }
   ],
   "source": [
    "clf1.score(inputs_train,targets_train)"
   ]
  },
  {
   "cell_type": "markdown",
   "id": "559362f0",
   "metadata": {},
   "source": [
    "SVM using Polynomial kernel."
   ]
  },
  {
   "cell_type": "code",
   "execution_count": 15,
   "id": "ae32bba7",
   "metadata": {},
   "outputs": [],
   "source": [
    "clf2=SVC(kernel='poly',probability=True)"
   ]
  },
  {
   "cell_type": "code",
   "execution_count": 16,
   "id": "218b214b",
   "metadata": {},
   "outputs": [
    {
     "data": {
      "text/plain": [
       "SVC(kernel='poly', probability=True)"
      ]
     },
     "execution_count": 16,
     "metadata": {},
     "output_type": "execute_result"
    }
   ],
   "source": [
    "clf2.fit(inputs_train,targets_train)"
   ]
  },
  {
   "cell_type": "code",
   "execution_count": 17,
   "id": "e3a3b1a0",
   "metadata": {},
   "outputs": [
    {
     "data": {
      "text/plain": [
       "0.4886515353805073"
      ]
     },
     "execution_count": 17,
     "metadata": {},
     "output_type": "execute_result"
    }
   ],
   "source": [
    "clf2.score(inputs_test,targets_test)"
   ]
  },
  {
   "cell_type": "code",
   "execution_count": 18,
   "id": "caf5b8db",
   "metadata": {},
   "outputs": [
    {
     "data": {
      "text/plain": [
       "0.544206008583691"
      ]
     },
     "execution_count": 18,
     "metadata": {},
     "output_type": "execute_result"
    }
   ],
   "source": [
    "clf2.score(inputs_train,targets_train)"
   ]
  },
  {
   "cell_type": "markdown",
   "id": "8e652773",
   "metadata": {},
   "source": [
    "SVM using Sigmoid kernel."
   ]
  },
  {
   "cell_type": "code",
   "execution_count": 19,
   "id": "49031712",
   "metadata": {},
   "outputs": [],
   "source": [
    "clf3=SVC(kernel='sigmoid',probability=True)"
   ]
  },
  {
   "cell_type": "code",
   "execution_count": 20,
   "id": "692c9a51",
   "metadata": {},
   "outputs": [
    {
     "data": {
      "text/plain": [
       "SVC(kernel='sigmoid', probability=True)"
      ]
     },
     "execution_count": 20,
     "metadata": {},
     "output_type": "execute_result"
    }
   ],
   "source": [
    "clf3.fit(inputs_train,targets_train)"
   ]
  },
  {
   "cell_type": "code",
   "execution_count": 21,
   "id": "57dd484b",
   "metadata": {},
   "outputs": [
    {
     "data": {
      "text/plain": [
       "0.1842456608811749"
      ]
     },
     "execution_count": 21,
     "metadata": {},
     "output_type": "execute_result"
    }
   ],
   "source": [
    "clf3.score(inputs_test,targets_test)"
   ]
  },
  {
   "cell_type": "code",
   "execution_count": 22,
   "id": "d3801feb",
   "metadata": {},
   "outputs": [
    {
     "data": {
      "text/plain": [
       "0.16795422031473534"
      ]
     },
     "execution_count": 22,
     "metadata": {},
     "output_type": "execute_result"
    }
   ],
   "source": [
    "clf3.score(inputs_train,targets_train)"
   ]
  },
  {
   "cell_type": "markdown",
   "id": "bd85e551",
   "metadata": {},
   "source": [
    "Linear SVM using LinearSVC() class."
   ]
  },
  {
   "cell_type": "code",
   "execution_count": 7,
   "id": "3ffe232f",
   "metadata": {},
   "outputs": [],
   "source": [
    "from sklearn.svm import LinearSVC"
   ]
  },
  {
   "cell_type": "code",
   "execution_count": 8,
   "id": "570fb745",
   "metadata": {},
   "outputs": [],
   "source": [
    "clf4=LinearSVC()"
   ]
  },
  {
   "cell_type": "code",
   "execution_count": 9,
   "id": "53c1cfb5",
   "metadata": {},
   "outputs": [
    {
     "name": "stderr",
     "output_type": "stream",
     "text": [
      "C:\\Users\\getch\\anaconda3\\envs\\tf_gpu\\lib\\site-packages\\sklearn\\svm\\_base.py:985: ConvergenceWarning: Liblinear failed to converge, increase the number of iterations.\n",
      "  warnings.warn(\"Liblinear failed to converge, increase \"\n"
     ]
    },
    {
     "data": {
      "text/plain": [
       "LinearSVC()"
      ]
     },
     "execution_count": 9,
     "metadata": {},
     "output_type": "execute_result"
    }
   ],
   "source": [
    "clf4.fit(inputs_train,targets_train)"
   ]
  },
  {
   "cell_type": "code",
   "execution_count": 10,
   "id": "e66d6bdf",
   "metadata": {},
   "outputs": [
    {
     "data": {
      "text/plain": [
       "0.36248331108144194"
      ]
     },
     "execution_count": 10,
     "metadata": {},
     "output_type": "execute_result"
    }
   ],
   "source": [
    "clf4.score(inputs_test,targets_test)"
   ]
  },
  {
   "cell_type": "code",
   "execution_count": 11,
   "id": "9be32ce1",
   "metadata": {},
   "outputs": [
    {
     "data": {
      "text/plain": [
       "0.9965665236051502"
      ]
     },
     "execution_count": 11,
     "metadata": {},
     "output_type": "execute_result"
    }
   ],
   "source": [
    "clf4.score(inputs_train,targets_train)"
   ]
  }
 ],
 "metadata": {
  "kernelspec": {
   "display_name": "Python 3",
   "language": "python",
   "name": "python3"
  },
  "language_info": {
   "codemirror_mode": {
    "name": "ipython",
    "version": 3
   },
   "file_extension": ".py",
   "mimetype": "text/x-python",
   "name": "python",
   "nbconvert_exporter": "python",
   "pygments_lexer": "ipython3",
   "version": "3.8.8"
  }
 },
 "nbformat": 4,
 "nbformat_minor": 5
}
